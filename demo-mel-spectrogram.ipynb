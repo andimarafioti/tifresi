{
 "cells": [
  {
   "cell_type": "code",
   "execution_count": null,
   "metadata": {},
   "outputs": [],
   "source": [
    "%matplotlib inline\n",
    "import matplotlib.pyplot as plt\n",
    "import numpy as np"
   ]
  },
  {
   "cell_type": "markdown",
   "metadata": {},
   "source": [
    "# Select a test signal\n"
   ]
  },
  {
   "cell_type": "code",
   "execution_count": null,
   "metadata": {},
   "outputs": [],
   "source": [
    "import librosa\n",
    "filename = librosa.util.example_audio_file()"
   ]
  },
  {
   "cell_type": "markdown",
   "metadata": {},
   "source": [
    "# Load the signal"
   ]
  },
  {
   "cell_type": "code",
   "execution_count": null,
   "metadata": {},
   "outputs": [],
   "source": [
    "from utils import load_signal\n",
    "y, sr = load_signal(filename)\n",
    "# Apply some light preprocessing\n",
    "from utils import preprocess_signal\n",
    "y = preprocess_signal(y)\n",
    "# Plot the signal in the time domain\n",
    "n = 256*256\n",
    "t = np.arange(n)/sr*1000\n",
    "plt.plot(t, y[:n])\n",
    "plt.xlabel('Time [ms]');"
   ]
  },
  {
   "cell_type": "code",
   "execution_count": null,
   "metadata": {},
   "outputs": [],
   "source": [
    "from IPython.display import display, Audio\n",
    "display(Audio(y, rate=sr))"
   ]
  },
  {
   "cell_type": "markdown",
   "metadata": {},
   "source": [
    "# Define the main parameters\n",
    "* The number of frequency channel for the stft `stft_channels`\n",
    "* The hop_size in time `hop_size`\n",
    "* The number of mel bins in time `n_mels`"
   ]
  },
  {
   "cell_type": "code",
   "execution_count": null,
   "metadata": {},
   "outputs": [],
   "source": [
    "# Here we use the default paramters. We recommend using them.\n",
    "from hparams import HParams\n",
    "stft_channels = HParams.stft_channels # 1024\n",
    "hop_size = HParams.hop_size # 256\n",
    "n_mels = HParams.n_mels # 80"
   ]
  },
  {
   "cell_type": "markdown",
   "metadata": {},
   "source": [
    "# Build the time frequency system\n",
    "The system will be used for the following operation:\n",
    "* Compute the STFT\n",
    "* Compute the spectrogram\n",
    "* Compute the mel spectrogram"
   ]
  },
  {
   "cell_type": "code",
   "execution_count": null,
   "metadata": {},
   "outputs": [],
   "source": [
    "from stft import GaussTF\n",
    "stft_system = GaussTF(hop_size=hop_size, stft_channels=stft_channels)"
   ]
  },
  {
   "cell_type": "markdown",
   "metadata": {},
   "source": [
    "# Compute the melspectrogram"
   ]
  },
  {
   "cell_type": "code",
   "execution_count": null,
   "metadata": {},
   "outputs": [],
   "source": [
    "Y = stft_system.spectrogram(y)"
   ]
  },
  {
   "cell_type": "code",
   "execution_count": null,
   "metadata": {},
   "outputs": [],
   "source": [
    "# We use the log mel spectrogram as we have a logarithmic perception of sound energy.\n",
    "from transforms import log_mel_spectrogram\n",
    "log_Y = log_mel_spectrogram(Y, stft_channels, n_mels)"
   ]
  },
  {
   "cell_type": "code",
   "execution_count": null,
   "metadata": {},
   "outputs": [],
   "source": [
    "plt.figure(dpi=200, figsize=(10,3))\n",
    "plt.imshow(log_Y[:,:n//hop_size])\n",
    "plt.colorbar()"
   ]
  },
  {
   "cell_type": "code",
   "execution_count": null,
   "metadata": {},
   "outputs": [],
   "source": []
  }
 ],
 "metadata": {
  "kernelspec": {
   "display_name": "Python 3",
   "language": "python",
   "name": "python3"
  },
  "language_info": {
   "codemirror_mode": {
    "name": "ipython",
    "version": 3
   },
   "file_extension": ".py",
   "mimetype": "text/x-python",
   "name": "python",
   "nbconvert_exporter": "python",
   "pygments_lexer": "ipython3",
   "version": "3.7.4"
  }
 },
 "nbformat": 4,
 "nbformat_minor": 4
}
