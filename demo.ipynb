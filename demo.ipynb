{
 "cells": [
  {
   "cell_type": "code",
   "execution_count": null,
   "metadata": {},
   "outputs": [],
   "source": [
    "%matplotlib inline"
   ]
  },
  {
   "cell_type": "code",
   "execution_count": null,
   "metadata": {},
   "outputs": [],
   "source": [
    "import matplotlib.pyplot as plt\n",
    "import numpy as np"
   ]
  },
  {
   "cell_type": "code",
   "execution_count": null,
   "metadata": {},
   "outputs": [],
   "source": [
    "# Select a test signal\n",
    "import librosa\n",
    "filename = librosa.util.example_audio_file()"
   ]
  },
  {
   "cell_type": "markdown",
   "metadata": {},
   "source": [
    "# Load the signal"
   ]
  },
  {
   "cell_type": "code",
   "execution_count": null,
   "metadata": {},
   "outputs": [],
   "source": [
    "from utils import load_signal\n",
    "y, sr = load_signal(filename)\n",
    "# Apply some light preprocessing\n",
    "from utils import preprocess_signal\n",
    "y = preprocess_signal(y)\n",
    "# Plot the signal in the time domain\n",
    "n = 1024*256\n",
    "t = np.arange(n)/sr*1000\n",
    "plt.plot(t, y[:n])\n",
    "plt.xlabel('Time [ms]');"
   ]
  },
  {
   "cell_type": "code",
   "execution_count": null,
   "metadata": {},
   "outputs": [],
   "source": [
    "from IPython.display import display, Audio\n",
    "display(Audio(y, rate=sr))"
   ]
  },
  {
   "cell_type": "markdown",
   "metadata": {},
   "source": [
    "# Define the main parameters\n",
    "* The number of frequency channel for the stft `stft_channels`\n",
    "* The hop_size in time `hop_size`"
   ]
  },
  {
   "cell_type": "code",
   "execution_count": null,
   "metadata": {},
   "outputs": [],
   "source": [
    "# Here we use the default paramters. We recommend using them.\n",
    "from hparams import HParams\n",
    "stft_channels = HParams.stft_channels # 1024\n",
    "hop_size = HParams.hop_size # 256\n"
   ]
  },
  {
   "cell_type": "markdown",
   "metadata": {},
   "source": [
    "# Build the time frequency system\n",
    "The system will be used for the following operation:\n",
    "* Compute the STFT\n",
    "* Compute the spectrogram\n",
    "* Invert the STFT\n",
    "* Reconstruc the phase and invert the spectrogram"
   ]
  },
  {
   "cell_type": "code",
   "execution_count": null,
   "metadata": {},
   "outputs": [],
   "source": [
    "from stft import GaussTF\n",
    "stft_system = GaussTF(hop_size=hop_size, stft_channels=stft_channels)"
   ]
  },
  {
   "cell_type": "markdown",
   "metadata": {},
   "source": [
    "# Compute the spectrogram"
   ]
  },
  {
   "cell_type": "code",
   "execution_count": null,
   "metadata": {},
   "outputs": [],
   "source": [
    "Y = stft_system.spectrogram(y)"
   ]
  },
  {
   "cell_type": "code",
   "execution_count": null,
   "metadata": {},
   "outputs": [],
   "source": [
    "# We use the log spectrogram as we have a logarithmic perception of sound energy.\n",
    "from transforms import log_spectrogram\n",
    "log_Y= log_spectrogram(Y)"
   ]
  },
  {
   "cell_type": "code",
   "execution_count": null,
   "metadata": {},
   "outputs": [],
   "source": [
    "plt.figure(dpi=200, figsize=(10,3))\n",
    "plt.imshow(log_Y[:,:n//hop_size])\n",
    "plt.colorbar()"
   ]
  },
  {
   "cell_type": "markdown",
   "metadata": {},
   "source": [
    "# Invert the representation"
   ]
  },
  {
   "cell_type": "code",
   "execution_count": null,
   "metadata": {},
   "outputs": [],
   "source": [
    "from transforms import inv_log_spectrogram\n",
    "from metrics import projection_loss\n",
    "\n",
    "new_Y = inv_log_spectrogram(log_Y)\n",
    "print(projection_loss(new_Y, Y))"
   ]
  },
  {
   "cell_type": "code",
   "execution_count": null,
   "metadata": {},
   "outputs": [],
   "source": [
    "new_y = stft_system.invert_spectrogram(new_Y)\n"
   ]
  },
  {
   "cell_type": "code",
   "execution_count": null,
   "metadata": {},
   "outputs": [],
   "source": [
    "from metrics import projection_loss\n",
    "new_Yp = stft_system.spectrogram(new_y)\n",
    "print(projection_loss(new_Y, new_Yp))"
   ]
  },
  {
   "cell_type": "code",
   "execution_count": null,
   "metadata": {},
   "outputs": [],
   "source": [
    "display(Audio(new_y, rate=sr))"
   ]
  },
  {
   "cell_type": "code",
   "execution_count": null,
   "metadata": {},
   "outputs": [],
   "source": []
  }
 ],
 "metadata": {
  "kernelspec": {
   "display_name": "Python 3",
   "language": "python",
   "name": "python3"
  },
  "language_info": {
   "codemirror_mode": {
    "name": "ipython",
    "version": 3
   },
   "file_extension": ".py",
   "mimetype": "text/x-python",
   "name": "python",
   "nbconvert_exporter": "python",
   "pygments_lexer": "ipython3",
   "version": "3.7.3"
  }
 },
 "nbformat": 4,
 "nbformat_minor": 4
}
